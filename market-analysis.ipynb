{
 "cells": [
  {
   "cell_type": "code",
   "execution_count": 1,
   "id": "8bb9c93a",
   "metadata": {
    "_cell_guid": "b1076dfc-b9ad-4769-8c92-a6c4dae69d19",
    "_uuid": "8f2839f25d086af736a60e9eeb907d3b93b6e0e5",
    "execution": {
     "iopub.execute_input": "2022-07-11T22:09:41.050841Z",
     "iopub.status.busy": "2022-07-11T22:09:41.050404Z",
     "iopub.status.idle": "2022-07-11T22:09:41.068164Z",
     "shell.execute_reply": "2022-07-11T22:09:41.067305Z"
    },
    "papermill": {
     "duration": 0.0279,
     "end_time": "2022-07-11T22:09:41.071035",
     "exception": false,
     "start_time": "2022-07-11T22:09:41.043135",
     "status": "completed"
    },
    "tags": []
   },
   "outputs": [
    {
     "name": "stdout",
     "output_type": "stream",
     "text": [
      "/kaggle/input/stores-area-and-sales-data/Stores.csv\n"
     ]
    }
   ],
   "source": [
    "# This Python 3 environment comes with many helpful analytics libraries installed\n",
    "# It is defined by the kaggle/python Docker image: https://github.com/kaggle/docker-python\n",
    "# For example, here's several helpful packages to load\n",
    "\n",
    "import numpy as np # linear algebra\n",
    "import pandas as pd # data processing, CSV file I/O (e.g. pd.read_csv)\n",
    "\n",
    "# Input data files are available in the read-only \"../input/\" directory\n",
    "# For example, running this (by clicking run or pressing Shift+Enter) will list all files under the input directory\n",
    "\n",
    "import os\n",
    "for dirname, _, filenames in os.walk('/kaggle/input'):\n",
    "    for filename in filenames:\n",
    "        print(os.path.join(dirname, filename))\n",
    "\n",
    "# You can write up to 20GB to the current directory (/kaggle/working/) that gets preserved as output when you create a version using \"Save & Run All\" \n",
    "# You can also write temporary files to /kaggle/temp/, but they won't be saved outside of the current session"
   ]
  },
  {
   "cell_type": "code",
   "execution_count": 2,
   "id": "2ac5e7c8",
   "metadata": {
    "execution": {
     "iopub.execute_input": "2022-07-11T22:09:41.082106Z",
     "iopub.status.busy": "2022-07-11T22:09:41.081666Z",
     "iopub.status.idle": "2022-07-11T22:09:41.086253Z",
     "shell.execute_reply": "2022-07-11T22:09:41.085360Z"
    },
    "papermill": {
     "duration": 0.012732,
     "end_time": "2022-07-11T22:09:41.088345",
     "exception": false,
     "start_time": "2022-07-11T22:09:41.075613",
     "status": "completed"
    },
    "tags": []
   },
   "outputs": [],
   "source": [
    "import pandas as pd\n",
    "import numpy as np\n",
    "import matplotlib.pyplot as plt"
   ]
  },
  {
   "cell_type": "code",
   "execution_count": 3,
   "id": "3a635cf4",
   "metadata": {
    "execution": {
     "iopub.execute_input": "2022-07-11T22:09:41.099764Z",
     "iopub.status.busy": "2022-07-11T22:09:41.098927Z",
     "iopub.status.idle": "2022-07-11T22:09:41.114935Z",
     "shell.execute_reply": "2022-07-11T22:09:41.114076Z"
    },
    "papermill": {
     "duration": 0.024313,
     "end_time": "2022-07-11T22:09:41.117355",
     "exception": false,
     "start_time": "2022-07-11T22:09:41.093042",
     "status": "completed"
    },
    "tags": []
   },
   "outputs": [],
   "source": [
    "df = pd.read_csv('../input/stores-area-and-sales-data/Stores.csv')"
   ]
  },
  {
   "cell_type": "code",
   "execution_count": 4,
   "id": "9e3f966d",
   "metadata": {
    "execution": {
     "iopub.execute_input": "2022-07-11T22:09:41.129147Z",
     "iopub.status.busy": "2022-07-11T22:09:41.128379Z",
     "iopub.status.idle": "2022-07-11T22:09:41.157604Z",
     "shell.execute_reply": "2022-07-11T22:09:41.156589Z"
    },
    "papermill": {
     "duration": 0.038294,
     "end_time": "2022-07-11T22:09:41.160370",
     "exception": false,
     "start_time": "2022-07-11T22:09:41.122076",
     "status": "completed"
    },
    "tags": []
   },
   "outputs": [
    {
     "name": "stdout",
     "output_type": "stream",
     "text": [
      "<class 'pandas.core.frame.DataFrame'>\n",
      "RangeIndex: 896 entries, 0 to 895\n",
      "Data columns (total 5 columns):\n",
      " #   Column                Non-Null Count  Dtype\n",
      "---  ------                --------------  -----\n",
      " 0   Store ID              896 non-null    int64\n",
      " 1   Store_Area            896 non-null    int64\n",
      " 2   Items_Available       896 non-null    int64\n",
      " 3   Daily_Customer_Count  896 non-null    int64\n",
      " 4   Store_Sales           896 non-null    int64\n",
      "dtypes: int64(5)\n",
      "memory usage: 35.1 KB\n"
     ]
    }
   ],
   "source": [
    "df.info()"
   ]
  },
  {
   "cell_type": "code",
   "execution_count": 5,
   "id": "b6d778c0",
   "metadata": {
    "execution": {
     "iopub.execute_input": "2022-07-11T22:09:41.171303Z",
     "iopub.status.busy": "2022-07-11T22:09:41.170608Z",
     "iopub.status.idle": "2022-07-11T22:09:41.188953Z",
     "shell.execute_reply": "2022-07-11T22:09:41.187807Z"
    },
    "papermill": {
     "duration": 0.02651,
     "end_time": "2022-07-11T22:09:41.191423",
     "exception": false,
     "start_time": "2022-07-11T22:09:41.164913",
     "status": "completed"
    },
    "tags": []
   },
   "outputs": [
    {
     "data": {
      "text/html": [
       "<div>\n",
       "<style scoped>\n",
       "    .dataframe tbody tr th:only-of-type {\n",
       "        vertical-align: middle;\n",
       "    }\n",
       "\n",
       "    .dataframe tbody tr th {\n",
       "        vertical-align: top;\n",
       "    }\n",
       "\n",
       "    .dataframe thead th {\n",
       "        text-align: right;\n",
       "    }\n",
       "</style>\n",
       "<table border=\"1\" class=\"dataframe\">\n",
       "  <thead>\n",
       "    <tr style=\"text-align: right;\">\n",
       "      <th></th>\n",
       "      <th>Store ID</th>\n",
       "      <th>Store_Area</th>\n",
       "      <th>Items_Available</th>\n",
       "      <th>Daily_Customer_Count</th>\n",
       "      <th>Store_Sales</th>\n",
       "    </tr>\n",
       "  </thead>\n",
       "  <tbody>\n",
       "    <tr>\n",
       "      <th>0</th>\n",
       "      <td>1</td>\n",
       "      <td>1659</td>\n",
       "      <td>1961</td>\n",
       "      <td>530</td>\n",
       "      <td>66490</td>\n",
       "    </tr>\n",
       "    <tr>\n",
       "      <th>1</th>\n",
       "      <td>2</td>\n",
       "      <td>1461</td>\n",
       "      <td>1752</td>\n",
       "      <td>210</td>\n",
       "      <td>39820</td>\n",
       "    </tr>\n",
       "    <tr>\n",
       "      <th>2</th>\n",
       "      <td>3</td>\n",
       "      <td>1340</td>\n",
       "      <td>1609</td>\n",
       "      <td>720</td>\n",
       "      <td>54010</td>\n",
       "    </tr>\n",
       "    <tr>\n",
       "      <th>3</th>\n",
       "      <td>4</td>\n",
       "      <td>1451</td>\n",
       "      <td>1748</td>\n",
       "      <td>620</td>\n",
       "      <td>53730</td>\n",
       "    </tr>\n",
       "    <tr>\n",
       "      <th>4</th>\n",
       "      <td>5</td>\n",
       "      <td>1770</td>\n",
       "      <td>2111</td>\n",
       "      <td>450</td>\n",
       "      <td>46620</td>\n",
       "    </tr>\n",
       "    <tr>\n",
       "      <th>5</th>\n",
       "      <td>6</td>\n",
       "      <td>1442</td>\n",
       "      <td>1733</td>\n",
       "      <td>760</td>\n",
       "      <td>45260</td>\n",
       "    </tr>\n",
       "    <tr>\n",
       "      <th>6</th>\n",
       "      <td>7</td>\n",
       "      <td>1542</td>\n",
       "      <td>1858</td>\n",
       "      <td>1030</td>\n",
       "      <td>72240</td>\n",
       "    </tr>\n",
       "    <tr>\n",
       "      <th>7</th>\n",
       "      <td>8</td>\n",
       "      <td>1261</td>\n",
       "      <td>1507</td>\n",
       "      <td>1020</td>\n",
       "      <td>37720</td>\n",
       "    </tr>\n",
       "    <tr>\n",
       "      <th>8</th>\n",
       "      <td>9</td>\n",
       "      <td>1090</td>\n",
       "      <td>1321</td>\n",
       "      <td>680</td>\n",
       "      <td>46310</td>\n",
       "    </tr>\n",
       "    <tr>\n",
       "      <th>9</th>\n",
       "      <td>10</td>\n",
       "      <td>1030</td>\n",
       "      <td>1235</td>\n",
       "      <td>1130</td>\n",
       "      <td>44150</td>\n",
       "    </tr>\n",
       "    <tr>\n",
       "      <th>10</th>\n",
       "      <td>11</td>\n",
       "      <td>1187</td>\n",
       "      <td>1439</td>\n",
       "      <td>1090</td>\n",
       "      <td>71280</td>\n",
       "    </tr>\n",
       "    <tr>\n",
       "      <th>11</th>\n",
       "      <td>12</td>\n",
       "      <td>1751</td>\n",
       "      <td>2098</td>\n",
       "      <td>720</td>\n",
       "      <td>57620</td>\n",
       "    </tr>\n",
       "    <tr>\n",
       "      <th>12</th>\n",
       "      <td>13</td>\n",
       "      <td>1746</td>\n",
       "      <td>2064</td>\n",
       "      <td>1050</td>\n",
       "      <td>60470</td>\n",
       "    </tr>\n",
       "    <tr>\n",
       "      <th>13</th>\n",
       "      <td>14</td>\n",
       "      <td>1615</td>\n",
       "      <td>1931</td>\n",
       "      <td>1160</td>\n",
       "      <td>59130</td>\n",
       "    </tr>\n",
       "    <tr>\n",
       "      <th>14</th>\n",
       "      <td>15</td>\n",
       "      <td>1469</td>\n",
       "      <td>1756</td>\n",
       "      <td>770</td>\n",
       "      <td>66360</td>\n",
       "    </tr>\n",
       "    <tr>\n",
       "      <th>15</th>\n",
       "      <td>16</td>\n",
       "      <td>1644</td>\n",
       "      <td>1950</td>\n",
       "      <td>790</td>\n",
       "      <td>78870</td>\n",
       "    </tr>\n",
       "    <tr>\n",
       "      <th>16</th>\n",
       "      <td>17</td>\n",
       "      <td>1578</td>\n",
       "      <td>1907</td>\n",
       "      <td>1440</td>\n",
       "      <td>77250</td>\n",
       "    </tr>\n",
       "    <tr>\n",
       "      <th>17</th>\n",
       "      <td>18</td>\n",
       "      <td>1703</td>\n",
       "      <td>2045</td>\n",
       "      <td>670</td>\n",
       "      <td>38170</td>\n",
       "    </tr>\n",
       "    <tr>\n",
       "      <th>18</th>\n",
       "      <td>19</td>\n",
       "      <td>1438</td>\n",
       "      <td>1731</td>\n",
       "      <td>1030</td>\n",
       "      <td>63540</td>\n",
       "    </tr>\n",
       "    <tr>\n",
       "      <th>19</th>\n",
       "      <td>20</td>\n",
       "      <td>1940</td>\n",
       "      <td>2340</td>\n",
       "      <td>980</td>\n",
       "      <td>40190</td>\n",
       "    </tr>\n",
       "  </tbody>\n",
       "</table>\n",
       "</div>"
      ],
      "text/plain": [
       "    Store ID   Store_Area  Items_Available  Daily_Customer_Count  Store_Sales\n",
       "0           1        1659             1961                   530        66490\n",
       "1           2        1461             1752                   210        39820\n",
       "2           3        1340             1609                   720        54010\n",
       "3           4        1451             1748                   620        53730\n",
       "4           5        1770             2111                   450        46620\n",
       "5           6        1442             1733                   760        45260\n",
       "6           7        1542             1858                  1030        72240\n",
       "7           8        1261             1507                  1020        37720\n",
       "8           9        1090             1321                   680        46310\n",
       "9          10        1030             1235                  1130        44150\n",
       "10         11        1187             1439                  1090        71280\n",
       "11         12        1751             2098                   720        57620\n",
       "12         13        1746             2064                  1050        60470\n",
       "13         14        1615             1931                  1160        59130\n",
       "14         15        1469             1756                   770        66360\n",
       "15         16        1644             1950                   790        78870\n",
       "16         17        1578             1907                  1440        77250\n",
       "17         18        1703             2045                   670        38170\n",
       "18         19        1438             1731                  1030        63540\n",
       "19         20        1940             2340                   980        40190"
      ]
     },
     "execution_count": 5,
     "metadata": {},
     "output_type": "execute_result"
    }
   ],
   "source": [
    "df.head(20)"
   ]
  },
  {
   "cell_type": "code",
   "execution_count": 6,
   "id": "4b17bdaa",
   "metadata": {
    "execution": {
     "iopub.execute_input": "2022-07-11T22:09:41.202714Z",
     "iopub.status.busy": "2022-07-11T22:09:41.202300Z",
     "iopub.status.idle": "2022-07-11T22:09:41.229986Z",
     "shell.execute_reply": "2022-07-11T22:09:41.228749Z"
    },
    "papermill": {
     "duration": 0.036199,
     "end_time": "2022-07-11T22:09:41.232416",
     "exception": false,
     "start_time": "2022-07-11T22:09:41.196217",
     "status": "completed"
    },
    "tags": []
   },
   "outputs": [
    {
     "data": {
      "text/html": [
       "<div>\n",
       "<style scoped>\n",
       "    .dataframe tbody tr th:only-of-type {\n",
       "        vertical-align: middle;\n",
       "    }\n",
       "\n",
       "    .dataframe tbody tr th {\n",
       "        vertical-align: top;\n",
       "    }\n",
       "\n",
       "    .dataframe thead th {\n",
       "        text-align: right;\n",
       "    }\n",
       "</style>\n",
       "<table border=\"1\" class=\"dataframe\">\n",
       "  <thead>\n",
       "    <tr style=\"text-align: right;\">\n",
       "      <th></th>\n",
       "      <th>Store ID</th>\n",
       "      <th>Store_Area</th>\n",
       "      <th>Items_Available</th>\n",
       "      <th>Daily_Customer_Count</th>\n",
       "      <th>Store_Sales</th>\n",
       "    </tr>\n",
       "  </thead>\n",
       "  <tbody>\n",
       "    <tr>\n",
       "      <th>count</th>\n",
       "      <td>896.000000</td>\n",
       "      <td>896.000000</td>\n",
       "      <td>896.000000</td>\n",
       "      <td>896.000000</td>\n",
       "      <td>896.000000</td>\n",
       "    </tr>\n",
       "    <tr>\n",
       "      <th>mean</th>\n",
       "      <td>448.500000</td>\n",
       "      <td>1485.409598</td>\n",
       "      <td>1782.035714</td>\n",
       "      <td>786.350446</td>\n",
       "      <td>59351.305804</td>\n",
       "    </tr>\n",
       "    <tr>\n",
       "      <th>std</th>\n",
       "      <td>258.797218</td>\n",
       "      <td>250.237011</td>\n",
       "      <td>299.872053</td>\n",
       "      <td>265.389281</td>\n",
       "      <td>17190.741895</td>\n",
       "    </tr>\n",
       "    <tr>\n",
       "      <th>min</th>\n",
       "      <td>1.000000</td>\n",
       "      <td>775.000000</td>\n",
       "      <td>932.000000</td>\n",
       "      <td>10.000000</td>\n",
       "      <td>14920.000000</td>\n",
       "    </tr>\n",
       "    <tr>\n",
       "      <th>25%</th>\n",
       "      <td>224.750000</td>\n",
       "      <td>1316.750000</td>\n",
       "      <td>1575.500000</td>\n",
       "      <td>600.000000</td>\n",
       "      <td>46530.000000</td>\n",
       "    </tr>\n",
       "    <tr>\n",
       "      <th>50%</th>\n",
       "      <td>448.500000</td>\n",
       "      <td>1477.000000</td>\n",
       "      <td>1773.500000</td>\n",
       "      <td>780.000000</td>\n",
       "      <td>58605.000000</td>\n",
       "    </tr>\n",
       "    <tr>\n",
       "      <th>75%</th>\n",
       "      <td>672.250000</td>\n",
       "      <td>1653.500000</td>\n",
       "      <td>1982.750000</td>\n",
       "      <td>970.000000</td>\n",
       "      <td>71872.500000</td>\n",
       "    </tr>\n",
       "    <tr>\n",
       "      <th>max</th>\n",
       "      <td>896.000000</td>\n",
       "      <td>2229.000000</td>\n",
       "      <td>2667.000000</td>\n",
       "      <td>1560.000000</td>\n",
       "      <td>116320.000000</td>\n",
       "    </tr>\n",
       "  </tbody>\n",
       "</table>\n",
       "</div>"
      ],
      "text/plain": [
       "        Store ID    Store_Area  Items_Available  Daily_Customer_Count  \\\n",
       "count  896.000000   896.000000       896.000000            896.000000   \n",
       "mean   448.500000  1485.409598      1782.035714            786.350446   \n",
       "std    258.797218   250.237011       299.872053            265.389281   \n",
       "min      1.000000   775.000000       932.000000             10.000000   \n",
       "25%    224.750000  1316.750000      1575.500000            600.000000   \n",
       "50%    448.500000  1477.000000      1773.500000            780.000000   \n",
       "75%    672.250000  1653.500000      1982.750000            970.000000   \n",
       "max    896.000000  2229.000000      2667.000000           1560.000000   \n",
       "\n",
       "         Store_Sales  \n",
       "count     896.000000  \n",
       "mean    59351.305804  \n",
       "std     17190.741895  \n",
       "min     14920.000000  \n",
       "25%     46530.000000  \n",
       "50%     58605.000000  \n",
       "75%     71872.500000  \n",
       "max    116320.000000  "
      ]
     },
     "execution_count": 6,
     "metadata": {},
     "output_type": "execute_result"
    }
   ],
   "source": [
    "df.describe()"
   ]
  },
  {
   "cell_type": "code",
   "execution_count": 7,
   "id": "3f5be47a",
   "metadata": {
    "execution": {
     "iopub.execute_input": "2022-07-11T22:09:41.244664Z",
     "iopub.status.busy": "2022-07-11T22:09:41.243615Z",
     "iopub.status.idle": "2022-07-11T22:09:42.452170Z",
     "shell.execute_reply": "2022-07-11T22:09:42.451098Z"
    },
    "papermill": {
     "duration": 1.217459,
     "end_time": "2022-07-11T22:09:42.454888",
     "exception": false,
     "start_time": "2022-07-11T22:09:41.237429",
     "status": "completed"
    },
    "tags": []
   },
   "outputs": [],
   "source": [
    "from sklearn.linear_model import LinearRegression"
   ]
  },
  {
   "cell_type": "code",
   "execution_count": 8,
   "id": "c158c666",
   "metadata": {
    "execution": {
     "iopub.execute_input": "2022-07-11T22:09:42.466981Z",
     "iopub.status.busy": "2022-07-11T22:09:42.466562Z",
     "iopub.status.idle": "2022-07-11T22:09:42.471572Z",
     "shell.execute_reply": "2022-07-11T22:09:42.470327Z"
    },
    "papermill": {
     "duration": 0.013884,
     "end_time": "2022-07-11T22:09:42.473955",
     "exception": false,
     "start_time": "2022-07-11T22:09:42.460071",
     "status": "completed"
    },
    "tags": []
   },
   "outputs": [],
   "source": [
    "predictors = ['Store_Area', 'Items_Available', 'Daily_Customer_Count']\n",
    "Outcome = ['Store_Sales']"
   ]
  },
  {
   "cell_type": "code",
   "execution_count": 9,
   "id": "3c40118c",
   "metadata": {
    "execution": {
     "iopub.execute_input": "2022-07-11T22:09:42.485440Z",
     "iopub.status.busy": "2022-07-11T22:09:42.485010Z",
     "iopub.status.idle": "2022-07-11T22:09:42.496093Z",
     "shell.execute_reply": "2022-07-11T22:09:42.494701Z"
    },
    "papermill": {
     "duration": 0.019448,
     "end_time": "2022-07-11T22:09:42.498381",
     "exception": false,
     "start_time": "2022-07-11T22:09:42.478933",
     "status": "completed"
    },
    "tags": []
   },
   "outputs": [],
   "source": [
    "from sklearn.model_selection import train_test_split\n",
    "\n",
    "X = df[predictors]\n",
    "y = df[Outcome]\n",
    "X_train, valid_X, y_train, valid_y = train_test_split(X, y, test_size = 0.2, random_state = 42)"
   ]
  },
  {
   "cell_type": "code",
   "execution_count": 10,
   "id": "0283884a",
   "metadata": {
    "execution": {
     "iopub.execute_input": "2022-07-11T22:09:42.511056Z",
     "iopub.status.busy": "2022-07-11T22:09:42.510106Z",
     "iopub.status.idle": "2022-07-11T22:09:42.536426Z",
     "shell.execute_reply": "2022-07-11T22:09:42.535322Z"
    },
    "papermill": {
     "duration": 0.035744,
     "end_time": "2022-07-11T22:09:42.539002",
     "exception": false,
     "start_time": "2022-07-11T22:09:42.503258",
     "status": "completed"
    },
    "tags": []
   },
   "outputs": [
    {
     "data": {
      "text/plain": [
       "LinearRegression()"
      ]
     },
     "execution_count": 10,
     "metadata": {},
     "output_type": "execute_result"
    }
   ],
   "source": [
    "df_lm = LinearRegression()\n",
    "df_lm.fit(X_train, y_train)"
   ]
  },
  {
   "cell_type": "code",
   "execution_count": 11,
   "id": "365612dc",
   "metadata": {
    "execution": {
     "iopub.execute_input": "2022-07-11T22:09:42.552653Z",
     "iopub.status.busy": "2022-07-11T22:09:42.552252Z",
     "iopub.status.idle": "2022-07-11T22:09:42.560702Z",
     "shell.execute_reply": "2022-07-11T22:09:42.559852Z"
    },
    "papermill": {
     "duration": 0.018011,
     "end_time": "2022-07-11T22:09:42.562647",
     "exception": false,
     "start_time": "2022-07-11T22:09:42.544636",
     "status": "completed"
    },
    "tags": []
   },
   "outputs": [
    {
     "name": "stdout",
     "output_type": "stream",
     "text": [
      "intercept  [49389.8290718]\n",
      "-----------------------------------------\n",
      "Table of Predictors and Coefficients\n",
      "-----------------------------------------\n",
      "              Predictor  coefficient\n",
      "0            Store_Area   -21.999270\n",
      "1       Items_Available    24.091620\n",
      "2  Daily_Customer_Count    -0.574361\n",
      "-----------------------------------------\n"
     ]
    }
   ],
   "source": [
    "print('intercept ', df_lm.intercept_)\n",
    "print('-----------------------------------------')\n",
    "print('Table of Predictors and Coefficients')\n",
    "print('-----------------------------------------')\n",
    "print(pd.DataFrame({'Predictor': X.columns, 'coefficient': df_lm.coef_.flatten()}))\n",
    "print('-----------------------------------------')"
   ]
  },
  {
   "cell_type": "code",
   "execution_count": 12,
   "id": "d150d579",
   "metadata": {
    "execution": {
     "iopub.execute_input": "2022-07-11T22:09:42.574687Z",
     "iopub.status.busy": "2022-07-11T22:09:42.574032Z",
     "iopub.status.idle": "2022-07-11T22:09:55.449981Z",
     "shell.execute_reply": "2022-07-11T22:09:55.448789Z"
    },
    "papermill": {
     "duration": 12.885237,
     "end_time": "2022-07-11T22:09:55.452777",
     "exception": false,
     "start_time": "2022-07-11T22:09:42.567540",
     "status": "completed"
    },
    "tags": []
   },
   "outputs": [
    {
     "name": "stdout",
     "output_type": "stream",
     "text": [
      "Collecting dmba\r\n",
      "  Downloading dmba-0.1.0-py3-none-any.whl (11.8 MB)\r\n",
      "\u001b[2K     \u001b[90m━━━━━━━━━━━━━━━━━━━━━━━━━━━━━━━━━━━━━━━━\u001b[0m \u001b[32m11.8/11.8 MB\u001b[0m \u001b[31m23.3 MB/s\u001b[0m eta \u001b[36m0:00:00\u001b[0m\r\n",
      "\u001b[?25hInstalling collected packages: dmba\r\n",
      "Successfully installed dmba-0.1.0\r\n",
      "\u001b[33mWARNING: Running pip as the 'root' user can result in broken permissions and conflicting behaviour with the system package manager. It is recommended to use a virtual environment instead: https://pip.pypa.io/warnings/venv\u001b[0m\u001b[33m\r\n",
      "\u001b[0m"
     ]
    }
   ],
   "source": [
    "!pip install dmba"
   ]
  },
  {
   "cell_type": "code",
   "execution_count": 13,
   "id": "f8047a07",
   "metadata": {
    "execution": {
     "iopub.execute_input": "2022-07-11T22:09:55.468599Z",
     "iopub.status.busy": "2022-07-11T22:09:55.468188Z",
     "iopub.status.idle": "2022-07-11T22:09:55.569701Z",
     "shell.execute_reply": "2022-07-11T22:09:55.568114Z"
    },
    "papermill": {
     "duration": 0.113535,
     "end_time": "2022-07-11T22:09:55.572708",
     "exception": false,
     "start_time": "2022-07-11T22:09:55.459173",
     "status": "completed"
    },
    "tags": []
   },
   "outputs": [
    {
     "name": "stdout",
     "output_type": "stream",
     "text": [
      "no display found. Using non-interactive Agg backend\n"
     ]
    }
   ],
   "source": [
    "from dmba import regressionSummary"
   ]
  },
  {
   "cell_type": "code",
   "execution_count": 14,
   "id": "712b9ac4",
   "metadata": {
    "execution": {
     "iopub.execute_input": "2022-07-11T22:09:55.587509Z",
     "iopub.status.busy": "2022-07-11T22:09:55.586720Z",
     "iopub.status.idle": "2022-07-11T22:09:55.597868Z",
     "shell.execute_reply": "2022-07-11T22:09:55.596502Z"
    },
    "papermill": {
     "duration": 0.021241,
     "end_time": "2022-07-11T22:09:55.600384",
     "exception": false,
     "start_time": "2022-07-11T22:09:55.579143",
     "status": "completed"
    },
    "tags": []
   },
   "outputs": [
    {
     "name": "stdout",
     "output_type": "stream",
     "text": [
      "-----------------------------------------\n",
      "Performance Measures\n",
      "-----------------------------------------\n",
      "\n",
      "Regression statistics\n",
      "\n",
      "                      Mean Error (ME) : 0.0000\n",
      "       Root Mean Squared Error (RMSE) : 17255.2498\n",
      "            Mean Absolute Error (MAE) : 14258.7128\n",
      "          Mean Percentage Error (MPE) : -10.5311\n",
      "Mean Absolute Percentage Error (MAPE) : 28.4176\n"
     ]
    }
   ],
   "source": [
    "print('-----------------------------------------')\n",
    "print('Performance Measures')\n",
    "print('-----------------------------------------')\n",
    "regressionSummary(y_train, df_lm.predict(X_train))"
   ]
  },
  {
   "cell_type": "code",
   "execution_count": 15,
   "id": "b8344ca7",
   "metadata": {
    "execution": {
     "iopub.execute_input": "2022-07-11T22:09:55.615038Z",
     "iopub.status.busy": "2022-07-11T22:09:55.614331Z",
     "iopub.status.idle": "2022-07-11T22:09:55.620369Z",
     "shell.execute_reply": "2022-07-11T22:09:55.619295Z"
    },
    "papermill": {
     "duration": 0.016113,
     "end_time": "2022-07-11T22:09:55.622782",
     "exception": false,
     "start_time": "2022-07-11T22:09:55.606669",
     "status": "completed"
    },
    "tags": []
   },
   "outputs": [],
   "source": [
    "df_lm_pred = df_lm.predict(valid_X)"
   ]
  },
  {
   "cell_type": "code",
   "execution_count": 16,
   "id": "cfcac93b",
   "metadata": {
    "execution": {
     "iopub.execute_input": "2022-07-11T22:09:55.637888Z",
     "iopub.status.busy": "2022-07-11T22:09:55.637202Z",
     "iopub.status.idle": "2022-07-11T22:09:55.648485Z",
     "shell.execute_reply": "2022-07-11T22:09:55.647274Z"
    },
    "papermill": {
     "duration": 0.021759,
     "end_time": "2022-07-11T22:09:55.651116",
     "exception": false,
     "start_time": "2022-07-11T22:09:55.629357",
     "status": "completed"
    },
    "tags": []
   },
   "outputs": [
    {
     "name": "stdout",
     "output_type": "stream",
     "text": [
      "        Predicted  Actual      Residual\n",
      "711  58025.077626   61080   3054.922374\n",
      "440  61135.493793   76300  15164.506207\n",
      "525  55438.978554   44890 -10548.978554\n",
      "722  61641.565824   36280 -25361.565824\n",
      "39   57967.909404   45480 -12487.909404\n",
      "290  56381.639333   47730  -8651.639333\n",
      "300  59961.326534   68850   8888.673466\n",
      "333  60185.130974   45580 -14605.130974\n",
      "208  60813.043221   37830 -22983.043221\n",
      "136  60398.468607   60940    541.531393\n",
      "\n",
      "Regression statistics\n",
      "\n",
      "                      Mean Error (ME) : 791.0877\n",
      "       Root Mean Squared Error (RMSE) : 16443.7988\n",
      "            Mean Absolute Error (MAE) : 13270.8051\n",
      "          Mean Percentage Error (MPE) : -7.6342\n",
      "Mean Absolute Percentage Error (MAPE) : 25.2633\n"
     ]
    }
   ],
   "source": [
    "result = pd.DataFrame({'Predicted': df_lm_pred.flatten(), 'Actual': valid_y['Store_Sales'],\n",
    "                       'Residual': valid_y['Store_Sales'] - df_lm_pred.flatten()})\n",
    "print(result.head(10))\n",
    "\n",
    "# Compute common accuracy measures\n",
    "regressionSummary(valid_y, df_lm_pred)"
   ]
  },
  {
   "cell_type": "code",
   "execution_count": 17,
   "id": "b1b3f778",
   "metadata": {
    "execution": {
     "iopub.execute_input": "2022-07-11T22:09:55.665513Z",
     "iopub.status.busy": "2022-07-11T22:09:55.665118Z",
     "iopub.status.idle": "2022-07-11T22:09:55.673633Z",
     "shell.execute_reply": "2022-07-11T22:09:55.672504Z"
    },
    "papermill": {
     "duration": 0.018879,
     "end_time": "2022-07-11T22:09:55.676414",
     "exception": false,
     "start_time": "2022-07-11T22:09:55.657535",
     "status": "completed"
    },
    "tags": []
   },
   "outputs": [
    {
     "name": "stdout",
     "output_type": "stream",
     "text": [
      "0.6944444444444444\n"
     ]
    }
   ],
   "source": [
    "df_lm_pred = df_lm.predict(valid_X)\n",
    "all_residuals = valid_y['Store_Sales'] - df_lm_pred.flatten()\n",
    "\n",
    "# Determine the percentage of datapoints with a residual in [-1406, 1406] = approx. 75\\%\n",
    "print(len(all_residuals[(all_residuals > -15652) & (all_residuals < 15652)]) / len(all_residuals))"
   ]
  },
  {
   "cell_type": "code",
   "execution_count": 18,
   "id": "87a163fb",
   "metadata": {
    "execution": {
     "iopub.execute_input": "2022-07-11T22:09:55.692668Z",
     "iopub.status.busy": "2022-07-11T22:09:55.692256Z",
     "iopub.status.idle": "2022-07-11T22:09:55.839935Z",
     "shell.execute_reply": "2022-07-11T22:09:55.838529Z"
    },
    "papermill": {
     "duration": 0.160331,
     "end_time": "2022-07-11T22:09:55.843858",
     "exception": false,
     "start_time": "2022-07-11T22:09:55.683527",
     "status": "completed"
    },
    "tags": []
   },
   "outputs": [],
   "source": [
    "ax = pd.DataFrame({'Residuals': all_residuals}).hist(bins=25, color = 'Gold', edgecolor = 'k')\n",
    "plt.tight_layout()\n",
    "plt.show()"
   ]
  }
 ],
 "metadata": {
  "kernelspec": {
   "display_name": "Python 3",
   "language": "python",
   "name": "python3"
  },
  "language_info": {
   "codemirror_mode": {
    "name": "ipython",
    "version": 3
   },
   "file_extension": ".py",
   "mimetype": "text/x-python",
   "name": "python",
   "nbconvert_exporter": "python",
   "pygments_lexer": "ipython3",
   "version": "3.7.12"
  },
  "papermill": {
   "default_parameters": {},
   "duration": 24.829354,
   "end_time": "2022-07-11T22:09:56.690177",
   "environment_variables": {},
   "exception": null,
   "input_path": "__notebook__.ipynb",
   "output_path": "__notebook__.ipynb",
   "parameters": {},
   "start_time": "2022-07-11T22:09:31.860823",
   "version": "2.3.4"
  }
 },
 "nbformat": 4,
 "nbformat_minor": 5
}
